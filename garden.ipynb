{
 "cells": [
  {
   "cell_type": "code",
   "execution_count": 4,
   "metadata": {},
   "outputs": [
    {
     "name": "stdout",
     "output_type": "stream",
     "text": [
      "Requirement already satisfied: spacy in c:\\users\\chowdhury\\appdata\\local\\programs\\python\\python39\\lib\\site-packages (3.7.4)\n",
      "Requirement already satisfied: srsly<3.0.0,>=2.4.3 in c:\\users\\chowdhury\\appdata\\local\\programs\\python\\python39\\lib\\site-packages (from spacy) (2.4.8)\n",
      "Requirement already satisfied: typer<0.10.0,>=0.3.0 in c:\\users\\chowdhury\\appdata\\local\\programs\\python\\python39\\lib\\site-packages (from spacy) (0.9.0)\n",
      "Requirement already satisfied: packaging>=20.0 in c:\\users\\chowdhury\\appdata\\local\\programs\\python\\python39\\lib\\site-packages (from spacy) (23.1)\n",
      "Requirement already satisfied: jinja2 in c:\\users\\chowdhury\\appdata\\local\\programs\\python\\python39\\lib\\site-packages (from spacy) (3.1.3)\n",
      "Requirement already satisfied: pydantic!=1.8,!=1.8.1,<3.0.0,>=1.7.4 in c:\\users\\chowdhury\\appdata\\local\\programs\\python\\python39\\lib\\site-packages (from spacy) (2.6.2)\n",
      "Requirement already satisfied: requests<3.0.0,>=2.13.0 in c:\\users\\chowdhury\\appdata\\local\\programs\\python\\python39\\lib\\site-packages (from spacy) (2.31.0)\n",
      "Requirement already satisfied: cymem<2.1.0,>=2.0.2 in c:\\users\\chowdhury\\appdata\\local\\programs\\python\\python39\\lib\\site-packages (from spacy) (2.0.8)\n",
      "Requirement already satisfied: weasel<0.4.0,>=0.1.0 in c:\\users\\chowdhury\\appdata\\local\\programs\\python\\python39\\lib\\site-packages (from spacy) (0.3.4)\n",
      "Requirement already satisfied: murmurhash<1.1.0,>=0.28.0 in c:\\users\\chowdhury\\appdata\\local\\programs\\python\\python39\\lib\\site-packages (from spacy) (1.0.10)\n",
      "Requirement already satisfied: tqdm<5.0.0,>=4.38.0 in c:\\users\\chowdhury\\appdata\\local\\programs\\python\\python39\\lib\\site-packages (from spacy) (4.65.0)\n",
      "Requirement already satisfied: preshed<3.1.0,>=3.0.2 in c:\\users\\chowdhury\\appdata\\local\\programs\\python\\python39\\lib\\site-packages (from spacy) (3.0.9)\n",
      "Requirement already satisfied: spacy-loggers<2.0.0,>=1.0.0 in c:\\users\\chowdhury\\appdata\\local\\programs\\python\\python39\\lib\\site-packages (from spacy) (1.0.5)\n",
      "Requirement already satisfied: catalogue<2.1.0,>=2.0.6 in c:\\users\\chowdhury\\appdata\\local\\programs\\python\\python39\\lib\\site-packages (from spacy) (2.0.10)\n",
      "Requirement already satisfied: setuptools in c:\\users\\chowdhury\\appdata\\local\\programs\\python\\python39\\lib\\site-packages (from spacy) (58.1.0)\n",
      "Requirement already satisfied: numpy>=1.19.0 in c:\\users\\chowdhury\\appdata\\local\\programs\\python\\python39\\lib\\site-packages (from spacy) (1.24.2)\n",
      "Requirement already satisfied: spacy-legacy<3.1.0,>=3.0.11 in c:\\users\\chowdhury\\appdata\\local\\programs\\python\\python39\\lib\\site-packages (from spacy) (3.0.12)\n",
      "Requirement already satisfied: smart-open<7.0.0,>=5.2.1 in c:\\users\\chowdhury\\appdata\\local\\programs\\python\\python39\\lib\\site-packages (from spacy) (6.4.0)\n",
      "Requirement already satisfied: langcodes<4.0.0,>=3.2.0 in c:\\users\\chowdhury\\appdata\\local\\programs\\python\\python39\\lib\\site-packages (from spacy) (3.3.0)\n",
      "Requirement already satisfied: wasabi<1.2.0,>=0.9.1 in c:\\users\\chowdhury\\appdata\\local\\programs\\python\\python39\\lib\\site-packages (from spacy) (1.1.2)\n",
      "Requirement already satisfied: thinc<8.3.0,>=8.2.2 in c:\\users\\chowdhury\\appdata\\local\\programs\\python\\python39\\lib\\site-packages (from spacy) (8.2.3)\n",
      "Requirement already satisfied: annotated-types>=0.4.0 in c:\\users\\chowdhury\\appdata\\local\\programs\\python\\python39\\lib\\site-packages (from pydantic!=1.8,!=1.8.1,<3.0.0,>=1.7.4->spacy) (0.6.0)\n",
      "Requirement already satisfied: pydantic-core==2.16.3 in c:\\users\\chowdhury\\appdata\\local\\programs\\python\\python39\\lib\\site-packages (from pydantic!=1.8,!=1.8.1,<3.0.0,>=1.7.4->spacy) (2.16.3)\n",
      "Requirement already satisfied: typing-extensions>=4.6.1 in c:\\users\\chowdhury\\appdata\\local\\programs\\python\\python39\\lib\\site-packages (from pydantic!=1.8,!=1.8.1,<3.0.0,>=1.7.4->spacy) (4.10.0)\n",
      "Requirement already satisfied: urllib3<3,>=1.21.1 in c:\\users\\chowdhury\\appdata\\local\\programs\\python\\python39\\lib\\site-packages (from requests<3.0.0,>=2.13.0->spacy) (2.0.3)\n",
      "Requirement already satisfied: charset-normalizer<4,>=2 in c:\\users\\chowdhury\\appdata\\local\\programs\\python\\python39\\lib\\site-packages (from requests<3.0.0,>=2.13.0->spacy) (3.1.0)\n",
      "Requirement already satisfied: certifi>=2017.4.17 in c:\\users\\chowdhury\\appdata\\local\\programs\\python\\python39\\lib\\site-packages (from requests<3.0.0,>=2.13.0->spacy) (2023.5.7)\n",
      "Requirement already satisfied: idna<4,>=2.5 in c:\\users\\chowdhury\\appdata\\local\\programs\\python\\python39\\lib\\site-packages (from requests<3.0.0,>=2.13.0->spacy) (3.4)\n",
      "Requirement already satisfied: blis<0.8.0,>=0.7.8 in c:\\users\\chowdhury\\appdata\\local\\programs\\python\\python39\\lib\\site-packages (from thinc<8.3.0,>=8.2.2->spacy) (0.7.11)\n",
      "Requirement already satisfied: confection<1.0.0,>=0.0.1 in c:\\users\\chowdhury\\appdata\\local\\programs\\python\\python39\\lib\\site-packages (from thinc<8.3.0,>=8.2.2->spacy) (0.1.4)\n",
      "Requirement already satisfied: colorama in c:\\users\\chowdhury\\appdata\\local\\programs\\python\\python39\\lib\\site-packages (from tqdm<5.0.0,>=4.38.0->spacy) (0.4.6)\n",
      "Requirement already satisfied: click<9.0.0,>=7.1.1 in c:\\users\\chowdhury\\appdata\\local\\programs\\python\\python39\\lib\\site-packages (from typer<0.10.0,>=0.3.0->spacy) (8.1.3)\n",
      "Requirement already satisfied: cloudpathlib<0.17.0,>=0.7.0 in c:\\users\\chowdhury\\appdata\\local\\programs\\python\\python39\\lib\\site-packages (from weasel<0.4.0,>=0.1.0->spacy) (0.16.0)\n",
      "Requirement already satisfied: MarkupSafe>=2.0 in c:\\users\\chowdhury\\appdata\\local\\programs\\python\\python39\\lib\\site-packages (from jinja2->spacy) (2.1.5)\n",
      "Note: you may need to restart the kernel to use updated packages.\n"
     ]
    },
    {
     "name": "stderr",
     "output_type": "stream",
     "text": [
      "WARNING: You are using pip version 22.0.4; however, version 24.0 is available.\n",
      "You should consider upgrading via the 'c:\\Users\\Chowdhury\\AppData\\Local\\Programs\\Python\\Python39\\python.exe -m pip install --upgrade pip' command.\n"
     ]
    }
   ],
   "source": [
    "pip install spacy"
   ]
  },
  {
   "cell_type": "code",
   "execution_count": 2,
   "metadata": {},
   "outputs": [],
   "source": [
    "import spacy \n",
    "\n",
    "nlp = spacy.load('en_core_web_sm')\n"
   ]
  },
  {
   "cell_type": "code",
   "execution_count": 3,
   "metadata": {},
   "outputs": [
    {
     "name": "stdout",
     "output_type": "stream",
     "text": [
      "['The old man the boats.', 'The complex houses married and single soldiers and their families.', ['Mary gave the child a Band-Aid.', 'That Jill is never here hurts.', 'The cotton clothing is made of grows in Mississippi']]\n"
     ]
    }
   ],
   "source": [
    "garden_path_sentences = [\n",
    "    \"The old man the boats.\",\n",
    "    \"The complex houses married and single soldiers and their families.\"\n",
    "]\n",
    "\n",
    "new_sentences = [ \"Mary gave the child a Band-Aid.\",\n",
    " \"That Jill is never here hurts.\",\n",
    " \"The cotton clothing is made of grows in Mississippi\"\n",
    "]\n",
    "\n",
    "garden_path_sentences.append(new_sentences)\n",
    "\n",
    "print(garden_path_sentences)"
   ]
  },
  {
   "cell_type": "code",
   "execution_count": 4,
   "metadata": {},
   "outputs": [
    {
     "name": "stdout",
     "output_type": "stream",
     "text": [
      "[[], [], [], [], []]\n"
     ]
    }
   ],
   "source": [
    "import spacy\n",
    "\n",
    "# Load the spaCy model\n",
    "nlp = spacy.load(\"en_core_web_sm\")\n",
    "\n",
    "# List of garden path sentences\n",
    "garden_path_sentences = [\n",
    "    \"The old man the boat.\",\n",
    "    \"The horse raced past the barn fell.\",\n",
    "    \"The complex houses married and single soldiers and their families.\",\n",
    "    \"The man whistling tunes pianos.\",\n",
    "    \"Fat people eat accumulates.\"\n",
    "]\n",
    "\n",
    "named_entities = []\n",
    "for sentence in garden_path_sentences:\n",
    "    doc = nlp(sentence)\n",
    "    entities = [(entity.text, entity.label_) for entity in doc.ents]\n",
    "    named_entities.append(entities)\n",
    "\n",
    "# Now, named_entities contains the named entities recognized in each sentence\n",
    "print(named_entities)\n"
   ]
  },
  {
   "cell_type": "code",
   "execution_count": 5,
   "metadata": {},
   "outputs": [
    {
     "name": "stdout",
     "output_type": "stream",
     "text": [
      "[[], [], [], []]\n"
     ]
    }
   ],
   "source": [
    "import spacy\n",
    "\n",
    "# Ensure you've loaded an appropriate spaCy model\n",
    "nlp = spacy.load(\"en_core_web_sm\")\n",
    "\n",
    "# Assuming garden_path_sentences is your list of sentences\n",
    "garden_path_sentences = [\n",
    "    \"The old man the boats.\",\n",
    "    \"The complex houses married and single soldiers and their families.\",\n",
    "    \"The horse raced past the barn fell.\",\n",
    "    \"Fat people eat accumulates.\"\n",
    "]\n",
    "\n",
    "# Initialize an empty list to hold the named entities from each sentence\n",
    "named_entities = []\n",
    "\n",
    "# Loop through each sentence in the list\n",
    "for sentence in garden_path_sentences:\n",
    "    # Process the sentence to get a Doc object\n",
    "    doc = nlp(sentence)\n",
    "    # Extract entities from the Doc and add them to the list\n",
    "    entities = [(entity.text, entity.label_) for entity in doc.ents]\n",
    "    named_entities.append(entities)\n",
    "\n",
    "# named_entities now contains the named entities identified in each sentence\n",
    "print(named_entities)\n"
   ]
  },
  {
   "cell_type": "code",
   "execution_count": 10,
   "metadata": {},
   "outputs": [
    {
     "name": "stdout",
     "output_type": "stream",
     "text": [
      "Sentence 1: The old man the boats.\n",
      "  No named entities found.\n",
      "\n",
      "\n",
      "Sentence 2: The complex houses married and single soldiers and their families.\n",
      "  No named entities found.\n",
      "\n",
      "\n",
      "Sentence 3: The horse raced past the barn fell.\n",
      "  No named entities found.\n",
      "\n",
      "\n",
      "Sentence 4: Fat people eat accumulates.\n",
      "  No named entities found.\n",
      "\n",
      "\n"
     ]
    }
   ],
   "source": [
    "for sentence_idx, entities in enumerate(named_entities):\n",
    "    print(f\"Sentence {sentence_idx + 1}: {garden_path_sentences[sentence_idx]}\")\n",
    "    if entities:\n",
    "        for entity, label in entities:\n",
    "            print(f\"  Entity: {entity}, Type: {label}, Meaning: {spacy.explain(label)}\")\n",
    "    else:\n",
    "        print(\"  No named entities found.\")\n",
    "    print(\"\\n\")"
   ]
  }
 ],
 "metadata": {
  "kernelspec": {
   "display_name": "Python 3",
   "language": "python",
   "name": "python3"
  },
  "language_info": {
   "codemirror_mode": {
    "name": "ipython",
    "version": 3
   },
   "file_extension": ".py",
   "mimetype": "text/x-python",
   "name": "python",
   "nbconvert_exporter": "python",
   "pygments_lexer": "ipython3",
   "version": "3.9.13"
  }
 },
 "nbformat": 4,
 "nbformat_minor": 2
}
